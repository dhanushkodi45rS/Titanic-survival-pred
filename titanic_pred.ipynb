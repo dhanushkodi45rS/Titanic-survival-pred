{
  "nbformat": 4,
  "nbformat_minor": 0,
  "metadata": {
    "colab": {
      "provenance": [],
      "authorship_tag": "ABX9TyOeF6SzfqnOMN2rpaMPzD56",
      "include_colab_link": true
    },
    "kernelspec": {
      "name": "python3",
      "display_name": "Python 3"
    },
    "language_info": {
      "name": "python"
    }
  },
  "cells": [
    {
      "cell_type": "markdown",
      "metadata": {
        "id": "view-in-github",
        "colab_type": "text"
      },
      "source": [
        "<a href=\"https://colab.research.google.com/github/dhanushkodi45rS/Titanic-survival-pred/blob/main/titanic_pred.ipynb\" target=\"_parent\"><img src=\"https://colab.research.google.com/assets/colab-badge.svg\" alt=\"Open In Colab\"/></a>"
      ]
    },
    {
      "cell_type": "code",
      "execution_count": 2,
      "metadata": {
        "id": "xf-096ZE7b2H"
      },
      "outputs": [],
      "source": [
        "import pandas as pd\n",
        "df = pd.read_csv('/content/titanic.csv')"
      ]
    },
    {
      "cell_type": "code",
      "source": [
        "import seaborn as sns\n",
        "import matplotlib.pyplot as plt\n",
        "from sklearn.model_selection import train_test_split\n",
        "from sklearn.preprocessing import StandardScaler, LabelEncoder\n",
        "from sklearn.linear_model import LogisticRegression\n",
        "from sklearn.tree import DecisionTreeClassifier\n",
        "from sklearn.metrics import accuracy_score, classification_report, confusion_matrix"
      ],
      "metadata": {
        "id": "I6QQ3cZl_fDc"
      },
      "execution_count": 3,
      "outputs": []
    },
    {
      "cell_type": "markdown",
      "source": [
        "selecting relevant columns"
      ],
      "metadata": {
        "id": "QR1D2U1jA0ll"
      }
    },
    {
      "cell_type": "code",
      "source": [
        "df =df[['Survived', 'Pclass', 'Sex', 'Age', 'Fare', 'Embarked']].dropna()"
      ],
      "metadata": {
        "id": "pS16fepeA0M0"
      },
      "execution_count": 5,
      "outputs": []
    },
    {
      "cell_type": "code",
      "source": [
        "le = LabelEncoder()\n",
        "df['Sex'] = le.fit_transform(df['Sex'])\n",
        "df['Embarked'] = le.fit_transform(df['Embarked'])"
      ],
      "metadata": {
        "id": "9BrK4ks3Cwf_"
      },
      "execution_count": 6,
      "outputs": []
    },
    {
      "cell_type": "markdown",
      "source": [
        "visualize EDA"
      ],
      "metadata": {
        "id": "3Pxbvo_nDaXR"
      }
    },
    {
      "cell_type": "code",
      "source": [
        "sns.countplot(x='Sex', hue='Survived', data=df)\n",
        "plt.title(\"Survival by Sex\")\n",
        "plt.show()"
      ],
      "metadata": {
        "colab": {
          "base_uri": "https://localhost:8080/",
          "height": 472
        },
        "id": "YfFeQ1edDTlc",
        "outputId": "d08cf995-962d-48cd-8264-57df8ada8c24"
      },
      "execution_count": 8,
      "outputs": [
        {
          "output_type": "display_data",
          "data": {
            "text/plain": [
              "<Figure size 640x480 with 1 Axes>"
            ],
            "image/png": "[encoded data removed]"
          },
          "metadata": {}
        }
      ]
    },
    {
      "cell_type": "markdown",
      "source": [
        "prepare data"
      ],
      "metadata": {
        "id": "6_sdeF3QENh5"
      }
    },
    {
      "cell_type": "code",
      "source": [
        "X = df.drop('Survived', axis=1)\n",
        "Y = df['Survived']\n",
        "X_train, X_test, Y_train, Y_test = train_test_split(X, Y, test_size=0.2, random_state=42)"
      ],
      "metadata": {
        "id": "xrFrLUj6EQ46"
      },
      "execution_count": 9,
      "outputs": []
    },
    {
      "cell_type": "markdown",
      "source": [
        "Feature Scaling"
      ],
      "metadata": {
        "id": "5BLmZ_HRE20a"
      }
    },
    {
      "cell_type": "code",
      "source": [
        "scaler = StandardScaler()\n",
        "X_train_scaler = scaler.fit_transform(X_train)\n",
        "X_test_scaler = scaler.transform(X_test)"
      ],
      "metadata": {
        "id": "7yMIAgHQFA4O"
      },
      "execution_count": 10,
      "outputs": []
    },
    {
      "cell_type": "markdown",
      "source": [
        "Logistics Regression"
      ],
      "metadata": {
        "id": "Rl0VbaKVFbHK"
      }
    },
    {
      "cell_type": "code",
      "source": [
        "log_model = LogisticRegression()\n",
        "log_model.fit(X_train_scaler, Y_train)\n",
        "log_pred = log_model.predict(X_test_scaler)"
      ],
      "metadata": {
        "id": "nKMkMizwFYVV"
      },
      "execution_count": 11,
      "outputs": []
    },
    {
      "cell_type": "markdown",
      "source": [
        "Decision Tree"
      ],
      "metadata": {
        "id": "p9iGYj1VF5H0"
      }
    },
    {
      "cell_type": "code",
      "source": [
        "tree_model =DecisionTreeClassifier(max_depth=4, random_state=42)\n",
        "tree_model.fit(X_train, Y_train)\n",
        "tree_pred = tree_model.predict(X_test)"
      ],
      "metadata": {
        "id": "RcXSJvrkGBde"
      },
      "execution_count": 16,
      "outputs": []
    },
    {
      "cell_type": "markdown",
      "source": [
        "Evaluate"
      ],
      "metadata": {
        "id": "j37nA83nG1eb"
      }
    },
    {
      "cell_type": "code",
      "source": [
        "print(\"Logistic Regression Accuracy:\", accuracy_score(Y_test, log_pred))\n",
        "print(\"Decision Tree Accuracy:\", accuracy_score(Y_test, tree_pred))\n",
        "print(\"\\nLogistic Classification Report:\\n\", classification_report(Y_test, log_pred))\n",
        "print(\"\\nDecision Tree Classification Report:\\n\", classification_report(Y_test, tree_pred))"
      ],
      "metadata": {
        "colab": {
          "base_uri": "https://localhost:8080/"
        },
        "id": "cCEIMQnoGn6b",
        "outputId": "2a5d1573-35af-490e-ebcc-1fc3f0527026"
      },
      "execution_count": 18,
      "outputs": [
        {
          "output_type": "stream",
          "name": "stdout",
          "text": [
            "Logistic Regression Accuracy: 0.7902097902097902\n",
            "Decision Tree Accuracy: 0.7132867132867133\n",
            "\n",
            "Logistic Classification Report:\n",
            "               precision    recall  f1-score   support\n",
            "\n",
            "           0       0.76      0.91      0.83        80\n",
            "           1       0.85      0.63      0.73        63\n",
            "\n",
            "    accuracy                           0.79       143\n",
            "   macro avg       0.81      0.77      0.78       143\n",
            "weighted avg       0.80      0.79      0.78       143\n",
            "\n",
            "\n",
            "Decision Tree Classification Report:\n",
            "               precision    recall  f1-score   support\n",
            "\n",
            "           0       0.74      0.75      0.75        80\n",
            "           1       0.68      0.67      0.67        63\n",
            "\n",
            "    accuracy                           0.71       143\n",
            "   macro avg       0.71      0.71      0.71       143\n",
            "weighted avg       0.71      0.71      0.71       143\n",
            "\n"
          ]
        }
      ]
    }
  ]
}